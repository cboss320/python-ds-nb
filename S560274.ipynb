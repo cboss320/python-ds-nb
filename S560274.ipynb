{
 "cells": [
  {
   "cell_type": "markdown",
   "metadata": {},
   "source": [
    "# Web Mining and Applied NLP (44-620)\n",
    "\n",
    "## Python Notebooks, Basics, and Data Structures\n",
    "\n",
    "### Courtney Pigford:\n",
    "\n",
    "Perform the tasks described in the Markdown cells below.  When you have completed the assignment make sure your code cells have all been run (and have output beneath them) and ensure you have committed and pushed ALL of your changes to your assignment repository.\n",
    "\n",
    "Every question that requires you to write code will have a code cell underneath it; you may either write your entire solution in that cell or write it in a python file (`.py`), then import and run the appropriate code to answer the question.\n",
    "\n",
    "Do not use external modules (`math`, etc) for this assignment unless you are explicitly instructed to, though you may use built in python functions (`min`, `max`, etc) as you wish."
   ]
  },
  {
   "cell_type": "markdown",
   "metadata": {},
   "source": [
    "10. Create a new Jupyter Notebook (the name of the notebook should be your S number). Add a Markdown cell that contains your name. Add a Code cell and write Python that uses loops to draw the following pattern:\n",
    "\n",
    "```\n",
    "*      *\n",
    "**    **\n",
    "***  ***\n",
    "********\n",
    "```\n",
    "Make sure to add and submit both the new notebook and the changes to this notebook for this assignment."
   ]
  },
  {
   "cell_type": "code",
   "execution_count": 15,
   "metadata": {},
   "outputs": [
    {
     "name": "stdout",
     "output_type": "stream",
     "text": [
      "Height of M-Star? 5\n",
      "*   *\n",
      "** **\n",
      "*****\n",
      "*****\n",
      "*****\n"
     ]
    }
   ],
   "source": [
    "def mstar(h, star_ch=\"*\", space_ch=\" \"):\n",
    "    assert h % 2, \"h must be odd\"\n",
    "\n",
    "    notch_rows    = h // 2\n",
    "    no_notch_rows = notch_rows + 1\n",
    "    rows          = []\n",
    "\n",
    "    for row in range(1, notch_rows + 1):\n",
    "        stars  = star_ch  * row\n",
    "        spaces = space_ch * (h - 2 * row)\n",
    "        rows.append(stars + spaces + stars)\n",
    "\n",
    "    for row in range(1, no_notch_rows + 1):\n",
    "        stars  = star_ch * h\n",
    "        rows.append(stars)\n",
    "\n",
    "    return \"\\n\".join(rows)\n",
    "\n",
    "def main():\n",
    "    h = int(input(\"Height of M-Star? \"))    # use raw_input for Python 2.x\n",
    "    print(mstar(h))\n",
    "\n",
    "if __name__ == \"__main__\":\n",
    "    main()"
   ]
  },
  {
   "cell_type": "code",
   "execution_count": 17,
   "metadata": {},
   "outputs": [
    {
     "name": "stdout",
     "output_type": "stream",
     "text": [
      "[NbConvertApp] Converting notebook S560274.ipynb to html\n",
      "[NbConvertApp] Writing 582149 bytes to S560274.html\n"
     ]
    }
   ],
   "source": [
    "!jupyter nbconvert --to html S560274.ipynb"
   ]
  },
  {
   "cell_type": "code",
   "execution_count": null,
   "metadata": {},
   "outputs": [],
   "source": []
  }
 ],
 "metadata": {
  "kernelspec": {
   "display_name": "Python 3 (ipykernel)",
   "language": "python",
   "name": "python3"
  },
  "language_info": {
   "codemirror_mode": {
    "name": "ipython",
    "version": 3
   },
   "file_extension": ".py",
   "mimetype": "text/x-python",
   "name": "python",
   "nbconvert_exporter": "python",
   "pygments_lexer": "ipython3",
   "version": "3.10.11"
  }
 },
 "nbformat": 4,
 "nbformat_minor": 4
}
